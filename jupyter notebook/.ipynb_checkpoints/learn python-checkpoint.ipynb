{
 "cells": [
  {
   "cell_type": "markdown",
   "metadata": {},
   "source": [
    "# imports"
   ]
  },
  {
   "cell_type": "code",
   "execution_count": 133,
   "metadata": {
    "collapsed": true
   },
   "outputs": [],
   "source": [
    "import re,os"
   ]
  },
  {
   "cell_type": "code",
   "execution_count": 33,
   "metadata": {},
   "outputs": [],
   "source": [
    "check = r\"A typical machine learning process involves training differen \\\n",
    "models on the dataset and selecting the one with best performance. However,\\\n",
    "evaluating the performance of algorithm is not always a straight forward task. \\\n",
    "There are several factors that can help you determine which algorithm performance best. \\\n",
    "One such factor is the performance on cross validation \\\n",
    "set and another other factor is the choice of par\\\n",
    "ameters for an algorithm.\\\n",
    "In this article we will explore these two factors in \\\n",
    "detail. We will first study what cross validation is, why i\\\n",
    "t is necessary, and how to perform it via Python's Scikit-Learn library. We\\\n",
    "will then move on to the Grid Search algorithm and see how it can be used to automati\\\n",
    "cally select the best parameters for an algorithm.\"\n"
   ]
  },
  {
   "cell_type": "markdown",
   "metadata": {},
   "source": [
    "# REgular expresssion"
   ]
  },
  {
   "cell_type": "code",
   "execution_count": 63,
   "metadata": {
    "collapsed": true
   },
   "outputs": [
    {
     "data": {
      "text/plain": [
       "'eral factors '"
      ]
     },
     "execution_count": 63,
     "metadata": {},
     "output_type": "execute_result"
    }
   ],
   "source": [
    "pattern = r'fac'\n",
    "\n",
    "s = re.search(pattern,check)\n",
    "fa =  re.findall(pattern,check)\n",
    "check[s.span()[0]-5:s.span()[1]+5]"
   ]
  },
  {
   "cell_type": "code",
   "execution_count": 132,
   "metadata": {},
   "outputs": [
    {
     "data": {
      "text/plain": [
       "<_sre.SRE_Match object; span=(13, 39), match='pankaj.pundir369@gmail.com'>"
      ]
     },
     "execution_count": 132,
     "metadata": {},
     "output_type": "execute_result"
    }
   ],
   "source": [
    "res = re.search(r'([\\w\\.-]+)\\@[\\w]+(\\.[\\w\\.]+)' , 'the email is pankaj.pundir369@gmail.com pankaj.pu9@gmaisl.com ajdkf@fs.dfasf .dfd',2)\n",
    "res\n"
   ]
  },
  {
   "cell_type": "code",
   "execution_count": 167,
   "metadata": {},
   "outputs": [
    {
     "name": "stdout",
     "output_type": "stream",
     "text": [
      "The\n",
      "1998\n",
      "The film Titanic was released in 1998\n",
      "TXX XXXX TXXXXXX XXX XXXXXXXX XX 1998\n",
      "The film Titanic was released in \n",
      " , '@ '          ?   % $  .\n",
      "ThefilmTitanicwasreleasedin1998\n",
      "    The film Pulp Fiction was  released  in   year 1994\n",
      "['', 'The', 'film,', \"'@Pulp\", \"Fiction'\", 'was', '?', 'released', '_', 'in', '%', '$', 'year', '1994.']\n"
     ]
    }
   ],
   "source": [
    "rm = re.match(r'[\\w\\s]*',check)\n",
    "# print(rm.string)\n",
    "text = \"The film Titanic was released in 1998\"  \n",
    "res = re.match(r'[a-zA-Z]+',text)\n",
    "print(res.group(0))\n",
    "\n",
    "# extract numbers\n",
    "result = re.search(r\"\\d+\", text)  \n",
    "print(result.group(0))  \n",
    "\n",
    "result = re.sub(r\"Pulp Fiction\", \"Forrest Gump\", text)  \n",
    "print(result)\n",
    "\n",
    "result = re.sub(r\"[a-z]\", \"X\", text)  \n",
    "print(result)\n",
    "\n",
    "# removing digits from the string\n",
    "result = re.sub(r\"\\d\", \"\", text)  \n",
    "print(result)\n",
    "\n",
    "# removing word characters\n",
    "result = re.sub(r\"\\w\",\"\",\"The film, '@Pulp Fiction' was \\\n",
    "        ? released in % $ year 1994.\" ,  flags = re.I)  \n",
    "print(result)  \n",
    "\n",
    "#removing non-word characters\n",
    "result = re.sub(r\"\\W\", \"\", text, flags=re.I)  \n",
    "print(result)\n",
    "\n",
    "#removing the punctuation mark and other special characters\n",
    "text1 = \"    The film, '@Pulp Fiction' was ? released _ in % $ year 1994.\"  \n",
    "result = re.sub(r\"[,@\\'?\\.$%_]\", \"\", text1, flags=re.I)  \n",
    "print(result)  \n",
    "\n",
    "# split words\n",
    "result = re.split(r\"\\s+\", text1)  \n",
    "print(result)  "
   ]
  },
  {
   "cell_type": "code",
   "execution_count": null,
   "metadata": {},
   "outputs": [],
   "source": [
    "result = re.match(r\".*\", text)  \n",
    "# regex expression that matches a string of\\\n",
    "# any length and any character"
   ]
  },
  {
   "cell_type": "code",
   "execution_count": 174,
   "metadata": {},
   "outputs": [
    {
     "name": "stdout",
     "output_type": "stream",
     "text": [
      "<list_iterator object at 0x7fd9d0553898>\n"
     ]
    }
   ],
   "source": [
    "print(iter([i for i in range(10)]))"
   ]
  },
  {
   "cell_type": "markdown",
   "metadata": {},
   "source": [
    "# file handling "
   ]
  },
  {
   "cell_type": "markdown",
   "metadata": {},
   "source": [
    "---\n",
    "    w: Opens a file for writing and creates a new file if it doesn't yet exist. In the case that the file does exist, it overwrites it.\n",
    "    w+: Opens a file for writing but also for reading and creating it if it doesn't exist. If a file already exists, it overwrites it.\n",
    "    r: Opens a file for reading only.\n",
    "    rb: Opens a file for reading in Binary format.\n",
    "    wb: Opens a file for writing in Binary format.\n",
    "    wb+: Opens a file for writing and reading in Binary format.\n",
    "    a: Opens a file for appending at the end of the file.\n",
    "    +: In general, this character is used along side r, w, or a and means both writing and reading.\n",
    "---"
   ]
  },
  {
   "cell_type": "code",
   "execution_count": 148,
   "metadata": {
    "collapsed": true
   },
   "outputs": [
    {
     "name": "stdout",
     "output_type": "stream",
     "text": [
      "b'78e82e157c90aaeec54f372d24e2715e\\n'\n"
     ]
    }
   ],
   "source": [
    "# open file and accessing the content\n",
    "\n",
    "with open(\"pass.txt\",'rb') as d:\n",
    "    print(d.read())\n",
    "# 78e82e157c90aaeec54f372d24e2715e - r    \n",
    "# b'78e82e157c90aaeec54f372d24e2715e\\n' -rb"
   ]
  },
  {
   "cell_type": "code",
   "execution_count": 149,
   "metadata": {
    "collapsed": true
   },
   "outputs": [],
   "source": [
    "os.rename('pass.txt','mpass.txt')"
   ]
  },
  {
   "cell_type": "code",
   "execution_count": 150,
   "metadata": {},
   "outputs": [
    {
     "data": {
      "text/plain": [
       "True"
      ]
     },
     "execution_count": 150,
     "metadata": {},
     "output_type": "execute_result"
    }
   ],
   "source": [
    "fil_name = 'del.txt'\n",
    "p = open(fil_name,'w')\n",
    "fil_name in os.listdir()"
   ]
  },
  {
   "cell_type": "code",
   "execution_count": 151,
   "metadata": {},
   "outputs": [],
   "source": [
    "os.remove(fil_name)"
   ]
  },
  {
   "cell_type": "markdown",
   "metadata": {},
   "source": [
    "## Overloading the function "
   ]
  },
  {
   "cell_type": "code",
   "execution_count": 1,
   "metadata": {},
   "outputs": [
    {
     "name": "stdout",
     "output_type": "stream",
     "text": [
      "book\n",
      "3\n"
     ]
    },
    {
     "data": {
      "text/plain": [
       "5"
      ]
     },
     "execution_count": 1,
     "metadata": {},
     "output_type": "execute_result"
    }
   ],
   "source": [
    "class Purchase:  \n",
    "    def __init__(self, basket, buyer):\n",
    "        self.basket = list(basket)\n",
    "        self.buyer = buyer\n",
    "\n",
    "    def __len__(self):\n",
    "        return len(self.basket)\n",
    "    \n",
    "    def __add__(self,other):\n",
    "        return len(self)+len(other)\n",
    "    \n",
    "    def __getitem__(self,number):\n",
    "        return self.basket[number]\n",
    "\n",
    "purchase = Purchase(['pen', 'book', 'pencil'], 'Python')\n",
    "\n",
    "purc = Purchase([ 'bookss', 'pencil'], 'Python')\n",
    "print(purchase[1])\n",
    "print(len(purchase)) \n",
    "\n",
    "purchase+purc"
   ]
  },
  {
   "cell_type": "code",
   "execution_count": 12,
   "metadata": {},
   "outputs": [],
   "source": [
    "class rectangle:\n",
    "    def __init__(self, length,width):\n",
    "        self.l = length\n",
    "        self.w = width\n",
    "    def area(self):\n",
    "        return self.l * self.w\n",
    "    \n",
    "    def perimeter(self):\n",
    "        return 2*(self.l + self.w)\n",
    "\n",
    "class square(rectangle):\n",
    "    def __init__(self, l):\n",
    "        super().__init__(l,l)\n",
    "        "
   ]
  },
  {
   "cell_type": "code",
   "execution_count": 57,
   "metadata": {},
   "outputs": [],
   "source": [
    "class polygon(square,rectangle):\n",
    "    def __init__(self):\n",
    "        super(polygon,self).__init__(5)\n",
    "#         print(self.__mro__)"
   ]
  },
  {
   "cell_type": "code",
   "execution_count": 58,
   "metadata": {},
   "outputs": [],
   "source": [
    "a = polygon()"
   ]
  },
  {
   "cell_type": "code",
   "execution_count": 59,
   "metadata": {},
   "outputs": [
    {
     "data": {
      "text/plain": [
       "5"
      ]
     },
     "execution_count": 59,
     "metadata": {},
     "output_type": "execute_result"
    }
   ],
   "source": [
    "a.w"
   ]
  },
  {
   "cell_type": "code",
   "execution_count": 31,
   "metadata": {},
   "outputs": [],
   "source": [
    "import numpy as np\n",
    "import matplotlib.pyplot as plt"
   ]
  },
  {
   "cell_type": "code",
   "execution_count": 33,
   "metadata": {},
   "outputs": [],
   "source": [
    "a = np.random.randint(-100,100,100)\n",
    "b = (a - np.mean(a))/np.std(a)"
   ]
  },
  {
   "cell_type": "code",
   "execution_count": 35,
   "metadata": {},
   "outputs": [
    {
     "data": {
      "text/plain": [
       "[<matplotlib.lines.Line2D at 0x7fc8fcde2e48>]"
      ]
     },
     "execution_count": 35,
     "metadata": {},
     "output_type": "execute_result"
    },
    {
     "data": {
      "image/png": "[encoded data removed]",
      "text/plain": [
       "<Figure size 432x288 with 2 Axes>"
      ]
     },
     "metadata": {},
     "output_type": "display_data"
    }
   ],
   "source": [
    "plt.subplot(121)\n",
    "plt.plot(b)\n",
    "plt.subplot(122)\n",
    "plt.plot(a)"
   ]
  },
  {
   "cell_type": "code",
   "execution_count": null,
   "metadata": {},
   "outputs": [],
   "source": [
    "list(map(list, zip(*l))) # swap list"
   ]
  }
 ],
 "metadata": {
  "kernelspec": {
   "display_name": "Python 3",
   "language": "python",
   "name": "python3"
  },
  "language_info": {
   "codemirror_mode": {
    "name": "ipython",
    "version": 3
   },
   "file_extension": ".py",
   "mimetype": "text/x-python",
   "name": "python",
   "nbconvert_exporter": "python",
   "pygments_lexer": "ipython3",
   "version": "3.6.5"
  }
 },
 "nbformat": 4,
 "nbformat_minor": 2
}
